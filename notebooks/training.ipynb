{
 "cells": [
  {
   "cell_type": "code",
   "execution_count": 207,
   "id": "2f876468",
   "metadata": {},
   "outputs": [],
   "source": [
    "import sys\n",
    "import os\n",
    "\n",
    "sys.path.append(os.path.abspath(\"..\"))\n"
   ]
  },
  {
   "cell_type": "code",
   "execution_count": 208,
   "id": "fb30a432",
   "metadata": {},
   "outputs": [],
   "source": [
    "import pandas as pd\n",
    "import numpy as np\n",
    "import matplotlib.pyplot as plt\n",
    "import seaborn as sns\n",
    "from category_encoders import TargetEncoder\n",
    "\n",
    "from src.transformers.imputer import CleanTitleImputer\n",
    "from src.transformers.imputer import AccidentReportImputer\n",
    "from src.transformers.imputer import FuelTypeImputer\n",
    "from src.transformers.imputer import MultipleTransmissionHandler\n",
    "from src.transformers.utils import ToDict\n",
    "\n",
    "from sklearn import set_config\n",
    "from sklearn.model_selection import train_test_split\n",
    "from sklearn.feature_extraction import FeatureHasher\n",
    "from sklearn.preprocessing import OneHotEncoder\n",
    "from sklearn.pipeline import Pipeline\n",
    "from sklearn.compose import ColumnTransformer\n",
    "from sklearn.preprocessing import StandardScaler, Normalizer, PowerTransformer\n",
    "from sklearn.ensemble import GradientBoostingRegressor\n"
   ]
  },
  {
   "cell_type": "code",
   "execution_count": 209,
   "id": "5918e506",
   "metadata": {},
   "outputs": [],
   "source": [
    "set_config(display=\"diagram\")\n"
   ]
  },
  {
   "cell_type": "code",
   "execution_count": 210,
   "id": "d7ca5a54",
   "metadata": {},
   "outputs": [
    {
     "data": {
      "application/vnd.microsoft.datawrangler.viewer.v0+json": {
       "columns": [
        {
         "name": "index",
         "rawType": "int64",
         "type": "integer"
        },
        {
         "name": "id",
         "rawType": "int64",
         "type": "integer"
        },
        {
         "name": "brand",
         "rawType": "object",
         "type": "string"
        },
        {
         "name": "model",
         "rawType": "object",
         "type": "string"
        },
        {
         "name": "model_year",
         "rawType": "int64",
         "type": "integer"
        },
        {
         "name": "milage",
         "rawType": "int64",
         "type": "integer"
        },
        {
         "name": "fuel_type",
         "rawType": "object",
         "type": "string"
        },
        {
         "name": "engine",
         "rawType": "object",
         "type": "string"
        },
        {
         "name": "transmission",
         "rawType": "object",
         "type": "string"
        },
        {
         "name": "ext_col",
         "rawType": "object",
         "type": "string"
        },
        {
         "name": "int_col",
         "rawType": "object",
         "type": "string"
        },
        {
         "name": "accident",
         "rawType": "object",
         "type": "string"
        },
        {
         "name": "clean_title",
         "rawType": "object",
         "type": "string"
        },
        {
         "name": "price",
         "rawType": "int64",
         "type": "integer"
        }
       ],
       "ref": "8ca097ab-1863-4463-99ca-e4d996aad8ce",
       "rows": [
        [
         "0",
         "0",
         "MINI",
         "Cooper S Base",
         "2007",
         "213000",
         "Gasoline",
         "172.0HP 1.6L 4 Cylinder Engine Gasoline Fuel",
         "A/T",
         "Yellow",
         "Gray",
         "None reported",
         "Yes",
         "4200"
        ],
        [
         "1",
         "1",
         "Lincoln",
         "LS V8",
         "2002",
         "143250",
         "Gasoline",
         "252.0HP 3.9L 8 Cylinder Engine Gasoline Fuel",
         "A/T",
         "Silver",
         "Beige",
         "At least 1 accident or damage reported",
         "Yes",
         "4999"
        ],
        [
         "2",
         "2",
         "Chevrolet",
         "Silverado 2500 LT",
         "2002",
         "136731",
         "E85 Flex Fuel",
         "320.0HP 5.3L 8 Cylinder Engine Flex Fuel Capability",
         "A/T",
         "Blue",
         "Gray",
         "None reported",
         "Yes",
         "13900"
        ],
        [
         "3",
         "3",
         "Genesis",
         "G90 5.0 Ultimate",
         "2017",
         "19500",
         "Gasoline",
         "420.0HP 5.0L 8 Cylinder Engine Gasoline Fuel",
         "Transmission w/Dual Shift Mode",
         "Black",
         "Black",
         "None reported",
         "Yes",
         "45000"
        ],
        [
         "4",
         "4",
         "Mercedes-Benz",
         "Metris Base",
         "2021",
         "7388",
         "Gasoline",
         "208.0HP 2.0L 4 Cylinder Engine Gasoline Fuel",
         "7-Speed A/T",
         "Black",
         "Beige",
         "None reported",
         "Yes",
         "97500"
        ]
       ],
       "shape": {
        "columns": 13,
        "rows": 5
       }
      },
      "text/html": [
       "<div>\n",
       "<style scoped>\n",
       "    .dataframe tbody tr th:only-of-type {\n",
       "        vertical-align: middle;\n",
       "    }\n",
       "\n",
       "    .dataframe tbody tr th {\n",
       "        vertical-align: top;\n",
       "    }\n",
       "\n",
       "    .dataframe thead th {\n",
       "        text-align: right;\n",
       "    }\n",
       "</style>\n",
       "<table border=\"1\" class=\"dataframe\">\n",
       "  <thead>\n",
       "    <tr style=\"text-align: right;\">\n",
       "      <th></th>\n",
       "      <th>id</th>\n",
       "      <th>brand</th>\n",
       "      <th>model</th>\n",
       "      <th>model_year</th>\n",
       "      <th>milage</th>\n",
       "      <th>fuel_type</th>\n",
       "      <th>engine</th>\n",
       "      <th>transmission</th>\n",
       "      <th>ext_col</th>\n",
       "      <th>int_col</th>\n",
       "      <th>accident</th>\n",
       "      <th>clean_title</th>\n",
       "      <th>price</th>\n",
       "    </tr>\n",
       "  </thead>\n",
       "  <tbody>\n",
       "    <tr>\n",
       "      <th>0</th>\n",
       "      <td>0</td>\n",
       "      <td>MINI</td>\n",
       "      <td>Cooper S Base</td>\n",
       "      <td>2007</td>\n",
       "      <td>213000</td>\n",
       "      <td>Gasoline</td>\n",
       "      <td>172.0HP 1.6L 4 Cylinder Engine Gasoline Fuel</td>\n",
       "      <td>A/T</td>\n",
       "      <td>Yellow</td>\n",
       "      <td>Gray</td>\n",
       "      <td>None reported</td>\n",
       "      <td>Yes</td>\n",
       "      <td>4200</td>\n",
       "    </tr>\n",
       "    <tr>\n",
       "      <th>1</th>\n",
       "      <td>1</td>\n",
       "      <td>Lincoln</td>\n",
       "      <td>LS V8</td>\n",
       "      <td>2002</td>\n",
       "      <td>143250</td>\n",
       "      <td>Gasoline</td>\n",
       "      <td>252.0HP 3.9L 8 Cylinder Engine Gasoline Fuel</td>\n",
       "      <td>A/T</td>\n",
       "      <td>Silver</td>\n",
       "      <td>Beige</td>\n",
       "      <td>At least 1 accident or damage reported</td>\n",
       "      <td>Yes</td>\n",
       "      <td>4999</td>\n",
       "    </tr>\n",
       "    <tr>\n",
       "      <th>2</th>\n",
       "      <td>2</td>\n",
       "      <td>Chevrolet</td>\n",
       "      <td>Silverado 2500 LT</td>\n",
       "      <td>2002</td>\n",
       "      <td>136731</td>\n",
       "      <td>E85 Flex Fuel</td>\n",
       "      <td>320.0HP 5.3L 8 Cylinder Engine Flex Fuel Capab...</td>\n",
       "      <td>A/T</td>\n",
       "      <td>Blue</td>\n",
       "      <td>Gray</td>\n",
       "      <td>None reported</td>\n",
       "      <td>Yes</td>\n",
       "      <td>13900</td>\n",
       "    </tr>\n",
       "    <tr>\n",
       "      <th>3</th>\n",
       "      <td>3</td>\n",
       "      <td>Genesis</td>\n",
       "      <td>G90 5.0 Ultimate</td>\n",
       "      <td>2017</td>\n",
       "      <td>19500</td>\n",
       "      <td>Gasoline</td>\n",
       "      <td>420.0HP 5.0L 8 Cylinder Engine Gasoline Fuel</td>\n",
       "      <td>Transmission w/Dual Shift Mode</td>\n",
       "      <td>Black</td>\n",
       "      <td>Black</td>\n",
       "      <td>None reported</td>\n",
       "      <td>Yes</td>\n",
       "      <td>45000</td>\n",
       "    </tr>\n",
       "    <tr>\n",
       "      <th>4</th>\n",
       "      <td>4</td>\n",
       "      <td>Mercedes-Benz</td>\n",
       "      <td>Metris Base</td>\n",
       "      <td>2021</td>\n",
       "      <td>7388</td>\n",
       "      <td>Gasoline</td>\n",
       "      <td>208.0HP 2.0L 4 Cylinder Engine Gasoline Fuel</td>\n",
       "      <td>7-Speed A/T</td>\n",
       "      <td>Black</td>\n",
       "      <td>Beige</td>\n",
       "      <td>None reported</td>\n",
       "      <td>Yes</td>\n",
       "      <td>97500</td>\n",
       "    </tr>\n",
       "  </tbody>\n",
       "</table>\n",
       "</div>"
      ],
      "text/plain": [
       "   id          brand              model  model_year  milage      fuel_type  \\\n",
       "0   0           MINI      Cooper S Base        2007  213000       Gasoline   \n",
       "1   1        Lincoln              LS V8        2002  143250       Gasoline   \n",
       "2   2      Chevrolet  Silverado 2500 LT        2002  136731  E85 Flex Fuel   \n",
       "3   3        Genesis   G90 5.0 Ultimate        2017   19500       Gasoline   \n",
       "4   4  Mercedes-Benz        Metris Base        2021    7388       Gasoline   \n",
       "\n",
       "                                              engine  \\\n",
       "0       172.0HP 1.6L 4 Cylinder Engine Gasoline Fuel   \n",
       "1       252.0HP 3.9L 8 Cylinder Engine Gasoline Fuel   \n",
       "2  320.0HP 5.3L 8 Cylinder Engine Flex Fuel Capab...   \n",
       "3       420.0HP 5.0L 8 Cylinder Engine Gasoline Fuel   \n",
       "4       208.0HP 2.0L 4 Cylinder Engine Gasoline Fuel   \n",
       "\n",
       "                     transmission ext_col int_col  \\\n",
       "0                             A/T  Yellow    Gray   \n",
       "1                             A/T  Silver   Beige   \n",
       "2                             A/T    Blue    Gray   \n",
       "3  Transmission w/Dual Shift Mode   Black   Black   \n",
       "4                     7-Speed A/T   Black   Beige   \n",
       "\n",
       "                                 accident clean_title  price  \n",
       "0                           None reported         Yes   4200  \n",
       "1  At least 1 accident or damage reported         Yes   4999  \n",
       "2                           None reported         Yes  13900  \n",
       "3                           None reported         Yes  45000  \n",
       "4                           None reported         Yes  97500  "
      ]
     },
     "execution_count": 210,
     "metadata": {},
     "output_type": "execute_result"
    }
   ],
   "source": [
    "data = pd.read_csv('../data/train.csv')\n",
    "data.head()\n"
   ]
  },
  {
   "cell_type": "code",
   "execution_count": 211,
   "id": "9a0e17f9",
   "metadata": {},
   "outputs": [
    {
     "data": {
      "text/plain": [
       "188533"
      ]
     },
     "execution_count": 211,
     "metadata": {},
     "output_type": "execute_result"
    }
   ],
   "source": [
    "len(data)\n"
   ]
  },
  {
   "cell_type": "code",
   "execution_count": 212,
   "id": "b315f706",
   "metadata": {},
   "outputs": [
    {
     "data": {
      "application/vnd.microsoft.datawrangler.viewer.v0+json": {
       "columns": [
        {
         "name": "index",
         "rawType": "int64",
         "type": "integer"
        },
        {
         "name": "Column name",
         "rawType": "object",
         "type": "string"
        },
        {
         "name": "Unique Values",
         "rawType": "int64",
         "type": "integer"
        },
        {
         "name": "Type",
         "rawType": "object",
         "type": "unknown"
        },
        {
         "name": "Transformation",
         "rawType": "object",
         "type": "unknown"
        }
       ],
       "ref": "b558fea4-13bf-4e23-9304-8eb129e25133",
       "rows": [
        [
         "0",
         "id",
         "188533",
         "int64",
         null
        ],
        [
         "1",
         "brand",
         "57",
         "object",
         "TargetEncoding"
        ],
        [
         "2",
         "model",
         "1897",
         "object",
         "HashEncoding"
        ],
        [
         "3",
         "model_year",
         "34",
         "int64",
         "Normalization"
        ],
        [
         "4",
         "milage",
         "6651",
         "int64",
         "Normalization"
        ],
        [
         "5",
         "fuel_type",
         "7",
         "object",
         "TargetEncoding"
        ],
        [
         "6",
         "engine",
         "1117",
         "object",
         "HashEncoding"
        ],
        [
         "7",
         "transmission",
         "52",
         "object",
         "OneHotEncoding"
        ],
        [
         "8",
         "ext_col",
         "319",
         "object",
         "TargetEncoding"
        ],
        [
         "9",
         "int_col",
         "156",
         "object",
         "TargetEncoding"
        ],
        [
         "10",
         "accident",
         "2",
         "object",
         "OneHotEncoding"
        ],
        [
         "11",
         "clean_title",
         "1",
         "object",
         "OneHotEncoding"
        ],
        [
         "12",
         "price",
         "1569",
         "int64",
         null
        ]
       ],
       "shape": {
        "columns": 4,
        "rows": 13
       }
      },
      "text/html": [
       "<div>\n",
       "<style scoped>\n",
       "    .dataframe tbody tr th:only-of-type {\n",
       "        vertical-align: middle;\n",
       "    }\n",
       "\n",
       "    .dataframe tbody tr th {\n",
       "        vertical-align: top;\n",
       "    }\n",
       "\n",
       "    .dataframe thead th {\n",
       "        text-align: right;\n",
       "    }\n",
       "</style>\n",
       "<table border=\"1\" class=\"dataframe\">\n",
       "  <thead>\n",
       "    <tr style=\"text-align: right;\">\n",
       "      <th></th>\n",
       "      <th>Column name</th>\n",
       "      <th>Unique Values</th>\n",
       "      <th>Type</th>\n",
       "      <th>Transformation</th>\n",
       "    </tr>\n",
       "  </thead>\n",
       "  <tbody>\n",
       "    <tr>\n",
       "      <th>0</th>\n",
       "      <td>id</td>\n",
       "      <td>188533</td>\n",
       "      <td>int64</td>\n",
       "      <td>None</td>\n",
       "    </tr>\n",
       "    <tr>\n",
       "      <th>1</th>\n",
       "      <td>brand</td>\n",
       "      <td>57</td>\n",
       "      <td>object</td>\n",
       "      <td>TargetEncoding</td>\n",
       "    </tr>\n",
       "    <tr>\n",
       "      <th>2</th>\n",
       "      <td>model</td>\n",
       "      <td>1897</td>\n",
       "      <td>object</td>\n",
       "      <td>HashEncoding</td>\n",
       "    </tr>\n",
       "    <tr>\n",
       "      <th>3</th>\n",
       "      <td>model_year</td>\n",
       "      <td>34</td>\n",
       "      <td>int64</td>\n",
       "      <td>Normalization</td>\n",
       "    </tr>\n",
       "    <tr>\n",
       "      <th>4</th>\n",
       "      <td>milage</td>\n",
       "      <td>6651</td>\n",
       "      <td>int64</td>\n",
       "      <td>Normalization</td>\n",
       "    </tr>\n",
       "    <tr>\n",
       "      <th>5</th>\n",
       "      <td>fuel_type</td>\n",
       "      <td>7</td>\n",
       "      <td>object</td>\n",
       "      <td>TargetEncoding</td>\n",
       "    </tr>\n",
       "    <tr>\n",
       "      <th>6</th>\n",
       "      <td>engine</td>\n",
       "      <td>1117</td>\n",
       "      <td>object</td>\n",
       "      <td>HashEncoding</td>\n",
       "    </tr>\n",
       "    <tr>\n",
       "      <th>7</th>\n",
       "      <td>transmission</td>\n",
       "      <td>52</td>\n",
       "      <td>object</td>\n",
       "      <td>OneHotEncoding</td>\n",
       "    </tr>\n",
       "    <tr>\n",
       "      <th>8</th>\n",
       "      <td>ext_col</td>\n",
       "      <td>319</td>\n",
       "      <td>object</td>\n",
       "      <td>TargetEncoding</td>\n",
       "    </tr>\n",
       "    <tr>\n",
       "      <th>9</th>\n",
       "      <td>int_col</td>\n",
       "      <td>156</td>\n",
       "      <td>object</td>\n",
       "      <td>TargetEncoding</td>\n",
       "    </tr>\n",
       "    <tr>\n",
       "      <th>10</th>\n",
       "      <td>accident</td>\n",
       "      <td>2</td>\n",
       "      <td>object</td>\n",
       "      <td>OneHotEncoding</td>\n",
       "    </tr>\n",
       "    <tr>\n",
       "      <th>11</th>\n",
       "      <td>clean_title</td>\n",
       "      <td>1</td>\n",
       "      <td>object</td>\n",
       "      <td>OneHotEncoding</td>\n",
       "    </tr>\n",
       "    <tr>\n",
       "      <th>12</th>\n",
       "      <td>price</td>\n",
       "      <td>1569</td>\n",
       "      <td>int64</td>\n",
       "      <td>None</td>\n",
       "    </tr>\n",
       "  </tbody>\n",
       "</table>\n",
       "</div>"
      ],
      "text/plain": [
       "     Column name  Unique Values    Type  Transformation\n",
       "0             id         188533   int64            None\n",
       "1          brand             57  object  TargetEncoding\n",
       "2          model           1897  object    HashEncoding\n",
       "3     model_year             34   int64   Normalization\n",
       "4         milage           6651   int64   Normalization\n",
       "5      fuel_type              7  object  TargetEncoding\n",
       "6         engine           1117  object    HashEncoding\n",
       "7   transmission             52  object  OneHotEncoding\n",
       "8        ext_col            319  object  TargetEncoding\n",
       "9        int_col            156  object  TargetEncoding\n",
       "10      accident              2  object  OneHotEncoding\n",
       "11   clean_title              1  object  OneHotEncoding\n",
       "12         price           1569   int64            None"
      ]
     },
     "execution_count": 212,
     "metadata": {},
     "output_type": "execute_result"
    }
   ],
   "source": [
    "unique_values_per_columns = {\n",
    "    \"Column name\": data.columns,\n",
    "    \"Unique Values\": [data[col].nunique() for col in data.columns], \n",
    "    \"Type\": [data[col].dtypes for col in data.columns],\n",
    "    \"Transformation\": [None, \"TargetEncoding\", \"HashEncoding\", \"Normalization\", \"Normalization\", \"TargetEncoding\", \"HashEncoding\", \"OneHotEncoding\", \"TargetEncoding\", \"TargetEncoding\", \"OneHotEncoding\", \"OneHotEncoding\", None],\n",
    "    }\n",
    "\n",
    "df = pd.DataFrame(unique_values_per_columns)\n",
    "df.head(30)\n"
   ]
  },
  {
   "cell_type": "code",
   "execution_count": 213,
   "id": "e5a2c1f9",
   "metadata": {},
   "outputs": [],
   "source": [
    "clean_title_imputer = CleanTitleImputer()\n",
    "accident_report_imputer = AccidentReportImputer()\n",
    "fuel_type_imputer = FuelTypeImputer()\n",
    "transmission_handler = MultipleTransmissionHandler()\n",
    "\n",
    "new_data = clean_title_imputer.transform(data)\n",
    "new_data = accident_report_imputer.transform(new_data)\n",
    "new_data = fuel_type_imputer.transform(new_data)\n",
    "new_data = transmission_handler.transform(new_data)\n"
   ]
  },
  {
   "cell_type": "code",
   "execution_count": 214,
   "id": "600f42d3",
   "metadata": {},
   "outputs": [],
   "source": [
    "from xgboost import XGBRegressor\n",
    "from sklearn.linear_model import SGDRegressor\n",
    "from sklearn.model_selection import GridSearchCV\n",
    "\n",
    "model = XGBRegressor(n_estimators=100, max_depth=5, learning_rate=0.03)\n"
   ]
  },
  {
   "cell_type": "code",
   "execution_count": 215,
   "id": "6adec3c9",
   "metadata": {},
   "outputs": [],
   "source": [
    "new_data = data\n"
   ]
  },
  {
   "cell_type": "code",
   "execution_count": null,
   "id": "c4141c3f",
   "metadata": {},
   "outputs": [],
   "source": [
    "data_imputer = Pipeline([\n",
    "    (\"clean_title_imputer\", CleanTitleImputer()),\n",
    "    (\"accident_report_imputer\", AccidentReportImputer()),\n",
    "    (\"fuel_type_imputer\", FuelTypeImputer()),\n",
    "    (\"transmission_handler\", MultipleTransmissionHandler()),\n",
    "])\n",
    "\n",
    "hasher_pipeline = Pipeline([\n",
    "    (\"to_dict\", ToDict()),\n",
    "    (\"hash_encoder\", FeatureHasher(n_features=1024, input_type=\"dict\"))\n",
    "])\n",
    "\n",
    "preprocessor = ColumnTransformer([\n",
    "    #(\"hash_encoding\", hasher_pipeline, [\"model\"]),\n",
    "    (\"one_hot_encoder\", OneHotEncoder(handle_unknown=\"ignore\"), [\"clean_title\", \"accident\", \"transmission\"]),\n",
    "    (\"target_encoder\", TargetEncoder(), [\"brand\", \"fuel_type\"]),\n",
    "    (\"box_cox_transform\", PowerTransformer(method=\"yeo-johnson\"), [\"model_year\", \"milage\"])\n",
    "])\n",
    "\n",
    "pipeline = Pipeline([\n",
    "    (\"preprocessing\", preprocessor),\n",
    "    (\"regressor\", model),\n",
    "])\n"
   ]
  },
  {
   "cell_type": "code",
   "execution_count": 217,
   "id": "e0c41993",
   "metadata": {},
   "outputs": [
    {
     "name": "stderr",
     "output_type": "stream",
     "text": [
      "/Users/rfd/ml-pipeline/.venv/lib/python3.11/site-packages/sklearn/pipeline.py:61: FutureWarning: This Pipeline instance is not fitted yet. Call 'fit' with appropriate arguments before using other methods such as transform, predict, etc. This will raise an error in 1.8 instead of the current warning.\n",
      "  warnings.warn(\n"
     ]
    }
   ],
   "source": [
    "new_data = data_imputer.transform(new_data)\n"
   ]
  },
  {
   "cell_type": "code",
   "execution_count": 218,
   "id": "0aa83513",
   "metadata": {},
   "outputs": [],
   "source": [
    "X, y = new_data.copy().drop([\"price\", \"id\", \"engine\", \"model\"], axis=1), data.copy()[\"price\"]\n"
   ]
  },
  {
   "cell_type": "code",
   "execution_count": 219,
   "id": "20efa8da",
   "metadata": {},
   "outputs": [
    {
     "name": "stdout",
     "output_type": "stream",
     "text": [
      "RMSE (cross-val): 73814.121875\n"
     ]
    }
   ],
   "source": [
    "from sklearn.model_selection import cross_val_score\n",
    "\n",
    "scores = cross_val_score(pipeline, X, y, cv=5, scoring=\"neg_root_mean_squared_error\")\n",
    "print(\"RMSE (cross-val):\", -scores.mean())\n"
   ]
  },
  {
   "cell_type": "code",
   "execution_count": 220,
   "id": "e9850ea9",
   "metadata": {},
   "outputs": [],
   "source": [
    "# print(\"Best RMSE:\", -grid.best_score_)\n",
    "# print(\"Best Params:\", grid.best_params_)\n"
   ]
  },
  {
   "cell_type": "code",
   "execution_count": 221,
   "id": "bd8996a9",
   "metadata": {},
   "outputs": [],
   "source": [
    "# best_model = grid.best_estimator_\n"
   ]
  },
  {
   "cell_type": "code",
   "execution_count": 223,
   "id": "ef17df69",
   "metadata": {},
   "outputs": [
    {
     "data": {
      "text/plain": [
       "['../models/preprocessor.pkl']"
      ]
     },
     "execution_count": 223,
     "metadata": {},
     "output_type": "execute_result"
    }
   ],
   "source": [
    "import joblib\n",
    "\n",
    "joblib.dump(model, \"../models/model.pkl\")\n",
    "joblib.dump(preprocessor, \"../models/preprocessor.pkl\")\n"
   ]
  },
  {
   "cell_type": "code",
   "execution_count": null,
   "id": "fa872010",
   "metadata": {},
   "outputs": [],
   "source": []
  }
 ],
 "metadata": {
  "kernelspec": {
   "display_name": "ml-pipeline",
   "language": "python",
   "name": "python3"
  },
  "language_info": {
   "codemirror_mode": {
    "name": "ipython",
    "version": 3
   },
   "file_extension": ".py",
   "mimetype": "text/x-python",
   "name": "python",
   "nbconvert_exporter": "python",
   "pygments_lexer": "ipython3",
   "version": "3.11.5"
  }
 },
 "nbformat": 4,
 "nbformat_minor": 5
}
