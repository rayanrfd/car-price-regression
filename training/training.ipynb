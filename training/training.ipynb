{
 "cells": [
  {
   "cell_type": "code",
   "execution_count": 1,
   "id": "fb30a432",
   "metadata": {},
   "outputs": [],
   "source": [
    "import pandas as pd\n",
    "import numpy as np\n",
    "import matplotlib.pyplot as plt\n",
    "\n",
    "from utils import *\n",
    "\n",
    "from sklearn.model_selection import train_test_split\n"
   ]
  },
  {
   "cell_type": "code",
   "execution_count": 2,
   "id": "d7ca5a54",
   "metadata": {},
   "outputs": [
    {
     "data": {
      "application/vnd.microsoft.datawrangler.viewer.v0+json": {
       "columns": [
        {
         "name": "index",
         "rawType": "int64",
         "type": "integer"
        },
        {
         "name": "id",
         "rawType": "int64",
         "type": "integer"
        },
        {
         "name": "brand",
         "rawType": "object",
         "type": "string"
        },
        {
         "name": "model",
         "rawType": "object",
         "type": "string"
        },
        {
         "name": "model_year",
         "rawType": "int64",
         "type": "integer"
        },
        {
         "name": "milage",
         "rawType": "int64",
         "type": "integer"
        },
        {
         "name": "fuel_type",
         "rawType": "object",
         "type": "string"
        },
        {
         "name": "engine",
         "rawType": "object",
         "type": "string"
        },
        {
         "name": "transmission",
         "rawType": "object",
         "type": "string"
        },
        {
         "name": "ext_col",
         "rawType": "object",
         "type": "string"
        },
        {
         "name": "int_col",
         "rawType": "object",
         "type": "string"
        },
        {
         "name": "accident",
         "rawType": "object",
         "type": "string"
        },
        {
         "name": "clean_title",
         "rawType": "object",
         "type": "string"
        },
        {
         "name": "price",
         "rawType": "int64",
         "type": "integer"
        }
       ],
       "ref": "3b29eac6-aa7b-49aa-b6dd-d089bb35ecd2",
       "rows": [
        [
         "0",
         "0",
         "MINI",
         "Cooper S Base",
         "2007",
         "213000",
         "Gasoline",
         "172.0HP 1.6L 4 Cylinder Engine Gasoline Fuel",
         "A/T",
         "Yellow",
         "Gray",
         "None reported",
         "Yes",
         "4200"
        ],
        [
         "1",
         "1",
         "Lincoln",
         "LS V8",
         "2002",
         "143250",
         "Gasoline",
         "252.0HP 3.9L 8 Cylinder Engine Gasoline Fuel",
         "A/T",
         "Silver",
         "Beige",
         "At least 1 accident or damage reported",
         "Yes",
         "4999"
        ],
        [
         "2",
         "2",
         "Chevrolet",
         "Silverado 2500 LT",
         "2002",
         "136731",
         "E85 Flex Fuel",
         "320.0HP 5.3L 8 Cylinder Engine Flex Fuel Capability",
         "A/T",
         "Blue",
         "Gray",
         "None reported",
         "Yes",
         "13900"
        ],
        [
         "3",
         "3",
         "Genesis",
         "G90 5.0 Ultimate",
         "2017",
         "19500",
         "Gasoline",
         "420.0HP 5.0L 8 Cylinder Engine Gasoline Fuel",
         "Transmission w/Dual Shift Mode",
         "Black",
         "Black",
         "None reported",
         "Yes",
         "45000"
        ],
        [
         "4",
         "4",
         "Mercedes-Benz",
         "Metris Base",
         "2021",
         "7388",
         "Gasoline",
         "208.0HP 2.0L 4 Cylinder Engine Gasoline Fuel",
         "7-Speed A/T",
         "Black",
         "Beige",
         "None reported",
         "Yes",
         "97500"
        ]
       ],
       "shape": {
        "columns": 13,
        "rows": 5
       }
      },
      "text/html": [
       "<div>\n",
       "<style scoped>\n",
       "    .dataframe tbody tr th:only-of-type {\n",
       "        vertical-align: middle;\n",
       "    }\n",
       "\n",
       "    .dataframe tbody tr th {\n",
       "        vertical-align: top;\n",
       "    }\n",
       "\n",
       "    .dataframe thead th {\n",
       "        text-align: right;\n",
       "    }\n",
       "</style>\n",
       "<table border=\"1\" class=\"dataframe\">\n",
       "  <thead>\n",
       "    <tr style=\"text-align: right;\">\n",
       "      <th></th>\n",
       "      <th>id</th>\n",
       "      <th>brand</th>\n",
       "      <th>model</th>\n",
       "      <th>model_year</th>\n",
       "      <th>milage</th>\n",
       "      <th>fuel_type</th>\n",
       "      <th>engine</th>\n",
       "      <th>transmission</th>\n",
       "      <th>ext_col</th>\n",
       "      <th>int_col</th>\n",
       "      <th>accident</th>\n",
       "      <th>clean_title</th>\n",
       "      <th>price</th>\n",
       "    </tr>\n",
       "  </thead>\n",
       "  <tbody>\n",
       "    <tr>\n",
       "      <th>0</th>\n",
       "      <td>0</td>\n",
       "      <td>MINI</td>\n",
       "      <td>Cooper S Base</td>\n",
       "      <td>2007</td>\n",
       "      <td>213000</td>\n",
       "      <td>Gasoline</td>\n",
       "      <td>172.0HP 1.6L 4 Cylinder Engine Gasoline Fuel</td>\n",
       "      <td>A/T</td>\n",
       "      <td>Yellow</td>\n",
       "      <td>Gray</td>\n",
       "      <td>None reported</td>\n",
       "      <td>Yes</td>\n",
       "      <td>4200</td>\n",
       "    </tr>\n",
       "    <tr>\n",
       "      <th>1</th>\n",
       "      <td>1</td>\n",
       "      <td>Lincoln</td>\n",
       "      <td>LS V8</td>\n",
       "      <td>2002</td>\n",
       "      <td>143250</td>\n",
       "      <td>Gasoline</td>\n",
       "      <td>252.0HP 3.9L 8 Cylinder Engine Gasoline Fuel</td>\n",
       "      <td>A/T</td>\n",
       "      <td>Silver</td>\n",
       "      <td>Beige</td>\n",
       "      <td>At least 1 accident or damage reported</td>\n",
       "      <td>Yes</td>\n",
       "      <td>4999</td>\n",
       "    </tr>\n",
       "    <tr>\n",
       "      <th>2</th>\n",
       "      <td>2</td>\n",
       "      <td>Chevrolet</td>\n",
       "      <td>Silverado 2500 LT</td>\n",
       "      <td>2002</td>\n",
       "      <td>136731</td>\n",
       "      <td>E85 Flex Fuel</td>\n",
       "      <td>320.0HP 5.3L 8 Cylinder Engine Flex Fuel Capab...</td>\n",
       "      <td>A/T</td>\n",
       "      <td>Blue</td>\n",
       "      <td>Gray</td>\n",
       "      <td>None reported</td>\n",
       "      <td>Yes</td>\n",
       "      <td>13900</td>\n",
       "    </tr>\n",
       "    <tr>\n",
       "      <th>3</th>\n",
       "      <td>3</td>\n",
       "      <td>Genesis</td>\n",
       "      <td>G90 5.0 Ultimate</td>\n",
       "      <td>2017</td>\n",
       "      <td>19500</td>\n",
       "      <td>Gasoline</td>\n",
       "      <td>420.0HP 5.0L 8 Cylinder Engine Gasoline Fuel</td>\n",
       "      <td>Transmission w/Dual Shift Mode</td>\n",
       "      <td>Black</td>\n",
       "      <td>Black</td>\n",
       "      <td>None reported</td>\n",
       "      <td>Yes</td>\n",
       "      <td>45000</td>\n",
       "    </tr>\n",
       "    <tr>\n",
       "      <th>4</th>\n",
       "      <td>4</td>\n",
       "      <td>Mercedes-Benz</td>\n",
       "      <td>Metris Base</td>\n",
       "      <td>2021</td>\n",
       "      <td>7388</td>\n",
       "      <td>Gasoline</td>\n",
       "      <td>208.0HP 2.0L 4 Cylinder Engine Gasoline Fuel</td>\n",
       "      <td>7-Speed A/T</td>\n",
       "      <td>Black</td>\n",
       "      <td>Beige</td>\n",
       "      <td>None reported</td>\n",
       "      <td>Yes</td>\n",
       "      <td>97500</td>\n",
       "    </tr>\n",
       "  </tbody>\n",
       "</table>\n",
       "</div>"
      ],
      "text/plain": [
       "   id          brand              model  model_year  milage      fuel_type  \\\n",
       "0   0           MINI      Cooper S Base        2007  213000       Gasoline   \n",
       "1   1        Lincoln              LS V8        2002  143250       Gasoline   \n",
       "2   2      Chevrolet  Silverado 2500 LT        2002  136731  E85 Flex Fuel   \n",
       "3   3        Genesis   G90 5.0 Ultimate        2017   19500       Gasoline   \n",
       "4   4  Mercedes-Benz        Metris Base        2021    7388       Gasoline   \n",
       "\n",
       "                                              engine  \\\n",
       "0       172.0HP 1.6L 4 Cylinder Engine Gasoline Fuel   \n",
       "1       252.0HP 3.9L 8 Cylinder Engine Gasoline Fuel   \n",
       "2  320.0HP 5.3L 8 Cylinder Engine Flex Fuel Capab...   \n",
       "3       420.0HP 5.0L 8 Cylinder Engine Gasoline Fuel   \n",
       "4       208.0HP 2.0L 4 Cylinder Engine Gasoline Fuel   \n",
       "\n",
       "                     transmission ext_col int_col  \\\n",
       "0                             A/T  Yellow    Gray   \n",
       "1                             A/T  Silver   Beige   \n",
       "2                             A/T    Blue    Gray   \n",
       "3  Transmission w/Dual Shift Mode   Black   Black   \n",
       "4                     7-Speed A/T   Black   Beige   \n",
       "\n",
       "                                 accident clean_title  price  \n",
       "0                           None reported         Yes   4200  \n",
       "1  At least 1 accident or damage reported         Yes   4999  \n",
       "2                           None reported         Yes  13900  \n",
       "3                           None reported         Yes  45000  \n",
       "4                           None reported         Yes  97500  "
      ]
     },
     "execution_count": 2,
     "metadata": {},
     "output_type": "execute_result"
    }
   ],
   "source": [
    "data = pd.read_csv('../data/train.csv')\n",
    "data.head()\n"
   ]
  },
  {
   "cell_type": "code",
   "execution_count": 3,
   "id": "9889aded",
   "metadata": {},
   "outputs": [
    {
     "data": {
      "application/vnd.microsoft.datawrangler.viewer.v0+json": {
       "columns": [
        {
         "name": "index",
         "rawType": "object",
         "type": "string"
        },
        {
         "name": "0",
         "rawType": "float64",
         "type": "float"
        }
       ],
       "ref": "bfb695c1-df4a-4494-9b58-74f7333a166e",
       "rows": [
        [
         "id",
         "0.0"
        ],
        [
         "brand",
         "0.0"
        ],
        [
         "model",
         "0.0"
        ],
        [
         "model_year",
         "0.0"
        ],
        [
         "milage",
         "0.0"
        ],
        [
         "fuel_type",
         "0.02696079731399808"
        ],
        [
         "engine",
         "0.0"
        ],
        [
         "transmission",
         "0.0"
        ],
        [
         "ext_col",
         "0.0"
        ],
        [
         "int_col",
         "0.0"
        ],
        [
         "accident",
         "0.013005680703112983"
        ],
        [
         "clean_title",
         "0.11360875814844086"
        ],
        [
         "price",
         "0.0"
        ]
       ],
       "shape": {
        "columns": 1,
        "rows": 13
       }
      },
      "text/plain": [
       "id              0.000000\n",
       "brand           0.000000\n",
       "model           0.000000\n",
       "model_year      0.000000\n",
       "milage          0.000000\n",
       "fuel_type       0.026961\n",
       "engine          0.000000\n",
       "transmission    0.000000\n",
       "ext_col         0.000000\n",
       "int_col         0.000000\n",
       "accident        0.013006\n",
       "clean_title     0.113609\n",
       "price           0.000000\n",
       "dtype: float64"
      ]
     },
     "execution_count": 3,
     "metadata": {},
     "output_type": "execute_result"
    }
   ],
   "source": [
    "data.isna().sum() / len(data)\n"
   ]
  },
  {
   "cell_type": "code",
   "execution_count": 4,
   "id": "7f328f7e",
   "metadata": {},
   "outputs": [],
   "source": [
    "new_data = data\n",
    "\n",
    "new_data = handle_clean_title(new_data)\n",
    "new_data = handle_accident_report(new_data)\n",
    "new_data = handle_fuel_type(new_data)\n"
   ]
  },
  {
   "cell_type": "code",
   "execution_count": 5,
   "id": "69f0343c",
   "metadata": {},
   "outputs": [
    {
     "data": {
      "application/vnd.microsoft.datawrangler.viewer.v0+json": {
       "columns": [
        {
         "name": "index",
         "rawType": "object",
         "type": "string"
        },
        {
         "name": "0",
         "rawType": "int64",
         "type": "integer"
        }
       ],
       "ref": "b130a419-2fb4-4cec-8132-04667d262d58",
       "rows": [
        [
         "id",
         "0"
        ],
        [
         "brand",
         "0"
        ],
        [
         "model",
         "0"
        ],
        [
         "model_year",
         "0"
        ],
        [
         "milage",
         "0"
        ],
        [
         "fuel_type",
         "0"
        ],
        [
         "engine",
         "0"
        ],
        [
         "transmission",
         "0"
        ],
        [
         "ext_col",
         "0"
        ],
        [
         "int_col",
         "0"
        ],
        [
         "accident",
         "0"
        ],
        [
         "clean_title",
         "17802"
        ],
        [
         "price",
         "0"
        ]
       ],
       "shape": {
        "columns": 1,
        "rows": 13
       }
      },
      "text/plain": [
       "id                  0\n",
       "brand               0\n",
       "model               0\n",
       "model_year          0\n",
       "milage              0\n",
       "fuel_type           0\n",
       "engine              0\n",
       "transmission        0\n",
       "ext_col             0\n",
       "int_col             0\n",
       "accident            0\n",
       "clean_title     17802\n",
       "price               0\n",
       "dtype: int64"
      ]
     },
     "execution_count": 5,
     "metadata": {},
     "output_type": "execute_result"
    }
   ],
   "source": [
    "new_data.isna().sum()\n"
   ]
  },
  {
   "cell_type": "code",
   "execution_count": 8,
   "id": "9ad51e23",
   "metadata": {},
   "outputs": [
    {
     "data": {
      "application/vnd.microsoft.datawrangler.viewer.v0+json": {
       "columns": [
        {
         "name": "fuel_type",
         "rawType": "object",
         "type": "string"
        },
        {
         "name": "count",
         "rawType": "int64",
         "type": "integer"
        }
       ],
       "ref": "f44188ec-a0e0-4ec4-9548-69982e17a8df",
       "rows": [
        [
         "Gasoline",
         "171029"
        ],
        [
         "Hybrid",
         "6832"
        ],
        [
         "E85 Flex Fuel",
         "5406"
        ],
        [
         "Diesel",
         "3955"
        ],
        [
         "–",
         "774"
        ],
        [
         "Plug-In Hybrid",
         "521"
        ],
        [
         "not supported",
         "15"
        ],
        [
         "Electric",
         "1"
        ]
       ],
       "shape": {
        "columns": 1,
        "rows": 8
       }
      },
      "text/plain": [
       "fuel_type\n",
       "Gasoline          171029\n",
       "Hybrid              6832\n",
       "E85 Flex Fuel       5406\n",
       "Diesel              3955\n",
       "–                    774\n",
       "Plug-In Hybrid       521\n",
       "not supported         15\n",
       "Electric               1\n",
       "Name: count, dtype: int64"
      ]
     },
     "execution_count": 8,
     "metadata": {},
     "output_type": "execute_result"
    }
   ],
   "source": [
    "new_data[\"fuel_type\"].value_counts()\n"
   ]
  },
  {
   "cell_type": "code",
   "execution_count": null,
   "id": "a8f3e1c6",
   "metadata": {},
   "outputs": [],
   "source": []
  }
 ],
 "metadata": {
  "kernelspec": {
   "display_name": "ml-pipeline",
   "language": "python",
   "name": "python3"
  },
  "language_info": {
   "codemirror_mode": {
    "name": "ipython",
    "version": 3
   },
   "file_extension": ".py",
   "mimetype": "text/x-python",
   "name": "python",
   "nbconvert_exporter": "python",
   "pygments_lexer": "ipython3",
   "version": "3.11.5"
  }
 },
 "nbformat": 4,
 "nbformat_minor": 5
}
